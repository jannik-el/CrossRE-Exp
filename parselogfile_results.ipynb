{
 "cells": [
  {
   "cell_type": "code",
   "execution_count": 9,
   "metadata": {},
   "outputs": [],
   "source": [
    "import os\n",
    "import shutil\n",
    "from tqdm import tqdm\n",
    "\n",
    "def find_log_files(exp_name, folder_path, destination_folder):\n",
    "    \n",
    "    for root, dirs, files in tqdm(os.walk(folder_path)):\n",
    "        for file in files:\n",
    "            if file.endswith('classify.log'):\n",
    "                file_name = os.path.join(root, file)\n",
    "                domain, seed = file_name.split('/')[-3], file_name.split('/')[-2]\n",
    "\n",
    "                shutil.copy(file_name, destination_folder)\n",
    "                # rename resulting file\n",
    "                new_name = os.path.join(destination_folder, f\"{exp_name}-{domain}-{seed}-classify.log\")\n",
    "                os.rename(os.path.join(destination_folder, file), new_name)\n",
    "            \n",
    "    \n",
    "    return print(\"Done.\")\n"
   ]
  },
  {
   "cell_type": "code",
   "execution_count": 10,
   "metadata": {},
   "outputs": [],
   "source": [
    "source_folder = 'CrossRE-main-LSTM/results'\n",
    "destination_folder = 'results1'\n"
   ]
  },
  {
   "cell_type": "code",
   "execution_count": 11,
   "metadata": {},
   "outputs": [
    {
     "name": "stderr",
     "output_type": "stream",
     "text": [
      "37it [00:00, 38.61it/s]"
     ]
    },
    {
     "name": "stdout",
     "output_type": "stream",
     "text": [
      "Done.\n"
     ]
    },
    {
     "name": "stderr",
     "output_type": "stream",
     "text": [
      "\n"
     ]
    }
   ],
   "source": [
    "find_log_files('base_lstm', source_folder, destination_folder)"
   ]
  },
  {
   "cell_type": "code",
   "execution_count": null,
   "metadata": {},
   "outputs": [],
   "source": []
  }
 ],
 "metadata": {
  "kernelspec": {
   "display_name": "Python 3",
   "language": "python",
   "name": "python3"
  },
  "language_info": {
   "codemirror_mode": {
    "name": "ipython",
    "version": 3
   },
   "file_extension": ".py",
   "mimetype": "text/x-python",
   "name": "python",
   "nbconvert_exporter": "python",
   "pygments_lexer": "ipython3",
   "version": "3.9.13"
  },
  "orig_nbformat": 4
 },
 "nbformat": 4,
 "nbformat_minor": 2
}
